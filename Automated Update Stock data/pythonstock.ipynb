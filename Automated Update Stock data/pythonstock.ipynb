{
 "cells": [
  {
   "cell_type": "code",
   "execution_count": 1,
   "metadata": {
    "collapsed": false
   },
   "outputs": [],
   "source": [
    "import pandas as pd\n",
    "import numpy as np\n",
    "import pandas_datareader as pdr\n",
    "from datetime import datetime\n",
    "from dateutil.relativedelta import relativedelta\n",
    "import sqlite3\n",
    "from apscheduler.schedulers.blocking import BlockingScheduler\n",
    "\n",
    "def sql_update():\n",
    "    # show the date today and the date one year ago\n",
    "    end=datetime.today()\n",
    "    start= end- relativedelta(years=1)\n",
    "    print (end)\n",
    "    print(start)\n",
    "    # put the stocks what you need to analyze in a dictionary\n",
    "    stock_dic=dict()\n",
    "    stocks= ['GOOG','AAPL','AMZN','JPM','MSFT']\n",
    "    for stock in stocks:\n",
    "        stock_dic[stock]=pdr.DataReader(stock,\"google\",start,end)    \n",
    "    stock_dic[stocks[0]].head()\n",
    "    # Create a dataframe consisting the close price of the stocks you choose\n",
    "    stock_df=pd.DataFrame({stock: stock_dic[stock][\"Close\"]for stock in stocks})\n",
    "    stock_df.head()\n",
    "    # Create a dataframe for the log-returns of the stocks in past 1 year\n",
    "    stock_change=stock_df.apply(lambda x: np.log(x)-np.log(x.shift(1)))\n",
    "    print(stock_change.head())\n",
    "    # Write the stock log return dataframe to SQL database\n",
    "    conn = sqlite3.connect(\"stockreturn.db\")\n",
    "    stock_change.to_sql(\"stockreturn\", conn, if_exists=\"replace\")\n",
    "\n"
   ]
  },
  {
   "cell_type": "code",
   "execution_count": null,
   "metadata": {
    "collapsed": false
   },
   "outputs": [
    {
     "name": "stdout",
     "output_type": "stream",
     "text": [
      "2017-08-24 23:10:59.152346\n",
      "2016-08-24 23:10:59.152346\n",
      "                AAPL      AMZN      GOOG       JPM      MSFT\n",
      "Date                                                        \n",
      "2016-08-24       NaN       NaN       NaN       NaN       NaN\n",
      "2016-08-25 -0.004267  0.002598 -0.000299  0.001818  0.003789\n",
      "2016-08-26 -0.005874  0.012799  0.000169  0.002268 -0.002410\n",
      "2016-08-29 -0.001123  0.002973  0.003386  0.010964  0.001206\n",
      "2016-08-30 -0.007706 -0.004822 -0.003971  0.008182 -0.003621\n"
     ]
    }
   ],
   "source": [
    "# schedule the update every minutes.\n",
    "sched=  BlockingScheduler()\n",
    "sched.add_job(sql_update,'interval',seconds=60)\n",
    "sched.start()\n"
   ]
  },
  {
   "cell_type": "code",
   "execution_count": null,
   "metadata": {
    "collapsed": true
   },
   "outputs": [],
   "source": []
  }
 ],
 "metadata": {
  "kernelspec": {
   "display_name": "Python 3",
   "language": "python",
   "name": "python3"
  },
  "language_info": {
   "codemirror_mode": {
    "name": "ipython",
    "version": 3
   },
   "file_extension": ".py",
   "mimetype": "text/x-python",
   "name": "python",
   "nbconvert_exporter": "python",
   "pygments_lexer": "ipython3",
   "version": "3.6.0"
  }
 },
 "nbformat": 4,
 "nbformat_minor": 2
}
